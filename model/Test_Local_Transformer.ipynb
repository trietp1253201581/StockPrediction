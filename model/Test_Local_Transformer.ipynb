{
 "cells": [
  {
   "cell_type": "code",
   "execution_count": 1,
   "metadata": {},
   "outputs": [],
   "source": [
    "import sys\n",
    "sys.path.append('..')\n",
    "from data.process import StockDataProcessor\n",
    "import data.config as dataconf"
   ]
  },
  {
   "cell_type": "code",
   "execution_count": 2,
   "metadata": {},
   "outputs": [],
   "source": [
    "import numpy as np"
   ]
  },
  {
   "cell_type": "code",
   "execution_count": 3,
   "metadata": {},
   "outputs": [],
   "source": [
    "data_processor = StockDataProcessor()"
   ]
  },
  {
   "cell_type": "code",
   "execution_count": 4,
   "metadata": {},
   "outputs": [],
   "source": [
    "storage_path = '../data/raw.csv'\n",
    "data_processor.load_raw_to_df(storage_path, dataconf.tickers)"
   ]
  },
  {
   "cell_type": "code",
   "execution_count": 5,
   "metadata": {},
   "outputs": [
    {
     "data": {
      "text/html": [
       "<div>\n",
       "<style scoped>\n",
       "    .dataframe tbody tr th:only-of-type {\n",
       "        vertical-align: middle;\n",
       "    }\n",
       "\n",
       "    .dataframe tbody tr th {\n",
       "        vertical-align: top;\n",
       "    }\n",
       "\n",
       "    .dataframe thead th {\n",
       "        text-align: right;\n",
       "    }\n",
       "</style>\n",
       "<table border=\"1\" class=\"dataframe\">\n",
       "  <thead>\n",
       "    <tr style=\"text-align: right;\">\n",
       "      <th></th>\n",
       "      <th>Open</th>\n",
       "      <th>High</th>\n",
       "      <th>Low</th>\n",
       "      <th>Close</th>\n",
       "      <th>Volume</th>\n",
       "      <th>Ticker</th>\n",
       "      <th>Collect Date</th>\n",
       "    </tr>\n",
       "  </thead>\n",
       "  <tbody>\n",
       "    <tr>\n",
       "      <th>0</th>\n",
       "      <td>16.100000</td>\n",
       "      <td>16.396667</td>\n",
       "      <td>15.942000</td>\n",
       "      <td>16.312668</td>\n",
       "      <td>92439000.0</td>\n",
       "      <td>TSLA</td>\n",
       "      <td>2019-10-01</td>\n",
       "    </tr>\n",
       "    <tr>\n",
       "      <th>1</th>\n",
       "      <td>16.219334</td>\n",
       "      <td>16.309999</td>\n",
       "      <td>15.962000</td>\n",
       "      <td>16.208668</td>\n",
       "      <td>84471000.0</td>\n",
       "      <td>TSLA</td>\n",
       "      <td>2019-10-02</td>\n",
       "    </tr>\n",
       "    <tr>\n",
       "      <th>2</th>\n",
       "      <td>15.457333</td>\n",
       "      <td>15.632000</td>\n",
       "      <td>14.952000</td>\n",
       "      <td>15.535333</td>\n",
       "      <td>226267504.0</td>\n",
       "      <td>TSLA</td>\n",
       "      <td>2019-10-03</td>\n",
       "    </tr>\n",
       "    <tr>\n",
       "      <th>3</th>\n",
       "      <td>15.440667</td>\n",
       "      <td>15.652000</td>\n",
       "      <td>15.204667</td>\n",
       "      <td>15.428667</td>\n",
       "      <td>119925000.0</td>\n",
       "      <td>TSLA</td>\n",
       "      <td>2019-10-04</td>\n",
       "    </tr>\n",
       "    <tr>\n",
       "      <th>4</th>\n",
       "      <td>15.320000</td>\n",
       "      <td>15.904000</td>\n",
       "      <td>15.236667</td>\n",
       "      <td>15.848000</td>\n",
       "      <td>120963000.0</td>\n",
       "      <td>TSLA</td>\n",
       "      <td>2019-10-07</td>\n",
       "    </tr>\n",
       "    <tr>\n",
       "      <th>...</th>\n",
       "      <td>...</td>\n",
       "      <td>...</td>\n",
       "      <td>...</td>\n",
       "      <td>...</td>\n",
       "      <td>...</td>\n",
       "      <td>...</td>\n",
       "      <td>...</td>\n",
       "    </tr>\n",
       "    <tr>\n",
       "      <th>65560</th>\n",
       "      <td>2894.000000</td>\n",
       "      <td>2931.500000</td>\n",
       "      <td>2863.000000</td>\n",
       "      <td>2882.500000</td>\n",
       "      <td>24980800.0</td>\n",
       "      <td>7203.T</td>\n",
       "      <td>2025-01-24</td>\n",
       "    </tr>\n",
       "    <tr>\n",
       "      <th>65561</th>\n",
       "      <td>2913.500000</td>\n",
       "      <td>2941.500000</td>\n",
       "      <td>2910.500000</td>\n",
       "      <td>2922.000000</td>\n",
       "      <td>18257200.0</td>\n",
       "      <td>7203.T</td>\n",
       "      <td>2025-01-27</td>\n",
       "    </tr>\n",
       "    <tr>\n",
       "      <th>65562</th>\n",
       "      <td>2900.000000</td>\n",
       "      <td>2936.000000</td>\n",
       "      <td>2889.500000</td>\n",
       "      <td>2889.500000</td>\n",
       "      <td>18314000.0</td>\n",
       "      <td>7203.T</td>\n",
       "      <td>2025-01-28</td>\n",
       "    </tr>\n",
       "    <tr>\n",
       "      <th>65563</th>\n",
       "      <td>2917.000000</td>\n",
       "      <td>2936.500000</td>\n",
       "      <td>2898.500000</td>\n",
       "      <td>2930.000000</td>\n",
       "      <td>17997800.0</td>\n",
       "      <td>7203.T</td>\n",
       "      <td>2025-01-29</td>\n",
       "    </tr>\n",
       "    <tr>\n",
       "      <th>65564</th>\n",
       "      <td>2927.000000</td>\n",
       "      <td>2963.500000</td>\n",
       "      <td>2922.500000</td>\n",
       "      <td>2949.000000</td>\n",
       "      <td>18783700.0</td>\n",
       "      <td>7203.T</td>\n",
       "      <td>2025-01-30</td>\n",
       "    </tr>\n",
       "  </tbody>\n",
       "</table>\n",
       "<p>65565 rows × 7 columns</p>\n",
       "</div>"
      ],
      "text/plain": [
       "              Open         High          Low        Close       Volume  \\\n",
       "0        16.100000    16.396667    15.942000    16.312668   92439000.0   \n",
       "1        16.219334    16.309999    15.962000    16.208668   84471000.0   \n",
       "2        15.457333    15.632000    14.952000    15.535333  226267504.0   \n",
       "3        15.440667    15.652000    15.204667    15.428667  119925000.0   \n",
       "4        15.320000    15.904000    15.236667    15.848000  120963000.0   \n",
       "...            ...          ...          ...          ...          ...   \n",
       "65560  2894.000000  2931.500000  2863.000000  2882.500000   24980800.0   \n",
       "65561  2913.500000  2941.500000  2910.500000  2922.000000   18257200.0   \n",
       "65562  2900.000000  2936.000000  2889.500000  2889.500000   18314000.0   \n",
       "65563  2917.000000  2936.500000  2898.500000  2930.000000   17997800.0   \n",
       "65564  2927.000000  2963.500000  2922.500000  2949.000000   18783700.0   \n",
       "\n",
       "       Ticker Collect Date  \n",
       "0        TSLA   2019-10-01  \n",
       "1        TSLA   2019-10-02  \n",
       "2        TSLA   2019-10-03  \n",
       "3        TSLA   2019-10-04  \n",
       "4        TSLA   2019-10-07  \n",
       "...       ...          ...  \n",
       "65560  7203.T   2025-01-24  \n",
       "65561  7203.T   2025-01-27  \n",
       "65562  7203.T   2025-01-28  \n",
       "65563  7203.T   2025-01-29  \n",
       "65564  7203.T   2025-01-30  \n",
       "\n",
       "[65565 rows x 7 columns]"
      ]
     },
     "execution_count": 5,
     "metadata": {},
     "output_type": "execute_result"
    }
   ],
   "source": [
    "data_processor.df"
   ]
  },
  {
   "cell_type": "code",
   "execution_count": 6,
   "metadata": {},
   "outputs": [],
   "source": [
    "features = ['Close', 'Volume']\n",
    "data_processor.handle_missing_data(dataconf.start_date, dataconf.end_date, features=features)\n",
    "data_processor.scale(features=features)\n",
    "data_processor.select_feature(features=features)"
   ]
  },
  {
   "cell_type": "code",
   "execution_count": 7,
   "metadata": {},
   "outputs": [
    {
     "data": {
      "text/html": [
       "<div>\n",
       "<style scoped>\n",
       "    .dataframe tbody tr th:only-of-type {\n",
       "        vertical-align: middle;\n",
       "    }\n",
       "\n",
       "    .dataframe tbody tr th {\n",
       "        vertical-align: top;\n",
       "    }\n",
       "\n",
       "    .dataframe thead th {\n",
       "        text-align: right;\n",
       "    }\n",
       "</style>\n",
       "<table border=\"1\" class=\"dataframe\">\n",
       "  <thead>\n",
       "    <tr style=\"text-align: right;\">\n",
       "      <th></th>\n",
       "      <th>Close</th>\n",
       "      <th>Volume</th>\n",
       "      <th>Collect Date</th>\n",
       "      <th>Ticker</th>\n",
       "    </tr>\n",
       "  </thead>\n",
       "  <tbody>\n",
       "    <tr>\n",
       "      <th>67</th>\n",
       "      <td>-0.361416</td>\n",
       "      <td>7.191827</td>\n",
       "      <td>2020-01-01</td>\n",
       "      <td>TSLA</td>\n",
       "    </tr>\n",
       "    <tr>\n",
       "      <th>68</th>\n",
       "      <td>-0.358438</td>\n",
       "      <td>6.637111</td>\n",
       "      <td>2020-01-02</td>\n",
       "      <td>TSLA</td>\n",
       "    </tr>\n",
       "    <tr>\n",
       "      <th>69</th>\n",
       "      <td>-0.355254</td>\n",
       "      <td>12.707194</td>\n",
       "      <td>2020-01-03</td>\n",
       "      <td>TSLA</td>\n",
       "    </tr>\n",
       "    <tr>\n",
       "      <th>70</th>\n",
       "      <td>-0.353125</td>\n",
       "      <td>7.079427</td>\n",
       "      <td>2020-01-06</td>\n",
       "      <td>TSLA</td>\n",
       "    </tr>\n",
       "    <tr>\n",
       "      <th>71</th>\n",
       "      <td>-0.348751</td>\n",
       "      <td>12.783453</td>\n",
       "      <td>2020-01-07</td>\n",
       "      <td>TSLA</td>\n",
       "    </tr>\n",
       "    <tr>\n",
       "      <th>...</th>\n",
       "      <td>...</td>\n",
       "      <td>...</td>\n",
       "      <td>...</td>\n",
       "      <td>...</td>\n",
       "    </tr>\n",
       "    <tr>\n",
       "      <th>65538</th>\n",
       "      <td>10.636154</td>\n",
       "      <td>2.325211</td>\n",
       "      <td>2024-12-25</td>\n",
       "      <td>7203.T</td>\n",
       "    </tr>\n",
       "    <tr>\n",
       "      <th>65539</th>\n",
       "      <td>11.300889</td>\n",
       "      <td>2.760062</td>\n",
       "      <td>2024-12-26</td>\n",
       "      <td>7203.T</td>\n",
       "    </tr>\n",
       "    <tr>\n",
       "      <th>65540</th>\n",
       "      <td>11.473159</td>\n",
       "      <td>2.040668</td>\n",
       "      <td>2024-12-27</td>\n",
       "      <td>7203.T</td>\n",
       "    </tr>\n",
       "    <tr>\n",
       "      <th>65541</th>\n",
       "      <td>11.315869</td>\n",
       "      <td>0.809383</td>\n",
       "      <td>2024-12-30</td>\n",
       "      <td>7203.T</td>\n",
       "    </tr>\n",
       "    <tr>\n",
       "      <th>65542</th>\n",
       "      <td>11.315869</td>\n",
       "      <td>0.809383</td>\n",
       "      <td>2024-12-31</td>\n",
       "      <td>7203.T</td>\n",
       "    </tr>\n",
       "  </tbody>\n",
       "</table>\n",
       "<p>61382 rows × 4 columns</p>\n",
       "</div>"
      ],
      "text/plain": [
       "           Close     Volume Collect Date  Ticker\n",
       "67     -0.361416   7.191827   2020-01-01    TSLA\n",
       "68     -0.358438   6.637111   2020-01-02    TSLA\n",
       "69     -0.355254  12.707194   2020-01-03    TSLA\n",
       "70     -0.353125   7.079427   2020-01-06    TSLA\n",
       "71     -0.348751  12.783453   2020-01-07    TSLA\n",
       "...          ...        ...          ...     ...\n",
       "65538  10.636154   2.325211   2024-12-25  7203.T\n",
       "65539  11.300889   2.760062   2024-12-26  7203.T\n",
       "65540  11.473159   2.040668   2024-12-27  7203.T\n",
       "65541  11.315869   0.809383   2024-12-30  7203.T\n",
       "65542  11.315869   0.809383   2024-12-31  7203.T\n",
       "\n",
       "[61382 rows x 4 columns]"
      ]
     },
     "execution_count": 7,
     "metadata": {},
     "output_type": "execute_result"
    }
   ],
   "source": [
    "data_processor.df"
   ]
  },
  {
   "cell_type": "code",
   "execution_count": 8,
   "metadata": {},
   "outputs": [],
   "source": [
    "X_train, y_train, X_val, y_val, X_test, y_test = data_processor.split_train_val_test(window_for_x=40,\n",
    "                                                                                     window_for_y=5,\n",
    "                                                                                     val_size=0.1,\n",
    "                                                                                     test_size=0.1,\n",
    "                                                                                     features=features,\n",
    "                                                                                     target_col='Close')"
   ]
  },
  {
   "cell_type": "code",
   "execution_count": 9,
   "metadata": {},
   "outputs": [
    {
     "data": {
      "text/plain": [
       "((47094, 40, 2),\n",
       " (47094, 5),\n",
       " (4042, 40, 2),\n",
       " (4042, 5),\n",
       " (4042, 40, 2),\n",
       " (4042, 5))"
      ]
     },
     "execution_count": 9,
     "metadata": {},
     "output_type": "execute_result"
    }
   ],
   "source": [
    "X_train.shape, y_train.shape, X_val.shape, y_val.shape, X_test.shape, y_test.shape"
   ]
  },
  {
   "cell_type": "markdown",
   "metadata": {},
   "source": [
    "## Baseline"
   ]
  },
  {
   "cell_type": "markdown",
   "metadata": {},
   "source": [
    "### Last Days"
   ]
  },
  {
   "cell_type": "code",
   "execution_count": 10,
   "metadata": {},
   "outputs": [],
   "source": [
    "from baseline import BaselineLastDayModel"
   ]
  },
  {
   "cell_type": "code",
   "execution_count": 11,
   "metadata": {},
   "outputs": [
    {
     "data": {
      "text/plain": [
       "((47094, 5), (4042, 5), (4042, 5))"
      ]
     },
     "execution_count": 11,
     "metadata": {},
     "output_type": "execute_result"
    }
   ],
   "source": [
    "model = BaselineLastDayModel()\n",
    "y_train_pred = model.predict(X_train, ndays=5)\n",
    "y_val_pred = model.predict(X_val, ndays=5)\n",
    "y_test_pred = model.predict(X_test, ndays=5)\n",
    "y_train_pred.shape, y_val_pred.shape, y_test_pred.shape"
   ]
  },
  {
   "cell_type": "code",
   "execution_count": 12,
   "metadata": {},
   "outputs": [],
   "source": [
    "from common import mse, mae"
   ]
  },
  {
   "cell_type": "code",
   "execution_count": 13,
   "metadata": {},
   "outputs": [
    {
     "data": {
      "text/plain": [
       "(array([0.00857969, 0.01713958, 0.02712367, 0.03552309, 0.04417002],\n",
       "       dtype=float32),\n",
       " 0.02650721)"
      ]
     },
     "execution_count": 13,
     "metadata": {},
     "output_type": "execute_result"
    }
   ],
   "source": [
    "model.evaluate_model(y_true=y_train, y_pred=y_train_pred, metric=mse)"
   ]
  },
  {
   "cell_type": "code",
   "execution_count": 14,
   "metadata": {},
   "outputs": [
    {
     "data": {
      "text/plain": [
       "(array([0.01045789, 0.02028568, 0.03077288, 0.04323151, 0.05812694],\n",
       "       dtype=float32),\n",
       " 0.032574978)"
      ]
     },
     "execution_count": 14,
     "metadata": {},
     "output_type": "execute_result"
    }
   ],
   "source": [
    "model.evaluate_model(y_true=y_val, y_pred=y_val_pred, metric=mse)"
   ]
  },
  {
   "cell_type": "code",
   "execution_count": 15,
   "metadata": {},
   "outputs": [
    {
     "data": {
      "text/plain": [
       "array([[ 9.905915  ,  9.836011  ,  9.98318   ,  9.898558  ,  9.964784  ],\n",
       "       [ 9.836011  ,  9.98318   ,  9.898558  ,  9.964784  ,  9.652048  ],\n",
       "       [ 9.98318   ,  9.898558  ,  9.964784  ,  9.652048  ,  9.49752   ],\n",
       "       ...,\n",
       "       [-0.1274993 , -0.11877347, -0.11877347, -0.11836152, -0.12259334],\n",
       "       [-0.11877347, -0.11877347, -0.11836152, -0.12259334, -0.12667538],\n",
       "       [-0.11877347, -0.11836152, -0.12259334, -0.12667538, -0.1274993 ]],\n",
       "      dtype=float32)"
      ]
     },
     "execution_count": 15,
     "metadata": {},
     "output_type": "execute_result"
    }
   ],
   "source": [
    "y_test"
   ]
  },
  {
   "cell_type": "code",
   "execution_count": 16,
   "metadata": {},
   "outputs": [],
   "source": [
    "def inverse_y(y):\n",
    "    ndays = y.shape[1]\n",
    "    y_new = np.zeros(y.shape)\n",
    "    for i in range(ndays):\n",
    "        y_new[:, i] = data_processor.inverse_transform(y[:, i], 'Close')[:, 0]\n",
    "    return y_new"
   ]
  },
  {
   "cell_type": "code",
   "execution_count": 17,
   "metadata": {},
   "outputs": [
    {
     "data": {
      "text/plain": [
       "(array([1302.00112662, 2284.88861635, 3279.70038298, 3923.86798261,\n",
       "        4452.61393196]),\n",
       " 3048.614408103344)"
      ]
     },
     "execution_count": 17,
     "metadata": {},
     "output_type": "execute_result"
    }
   ],
   "source": [
    "y_test_scaled = inverse_y(y_test)\n",
    "y_test_pred_scaled = inverse_y(y_test_pred)\n",
    "model.evaluate_model(y_test_scaled, y_test_pred_scaled, mse)"
   ]
  },
  {
   "cell_type": "markdown",
   "metadata": {},
   "source": [
    "### Moving Average"
   ]
  },
  {
   "cell_type": "code",
   "execution_count": 18,
   "metadata": {},
   "outputs": [],
   "source": [
    "from baseline import BaselineMAModel"
   ]
  },
  {
   "cell_type": "code",
   "execution_count": 19,
   "metadata": {},
   "outputs": [
    {
     "data": {
      "text/plain": [
       "((47094, 5), (4042, 5), (4042, 5))"
      ]
     },
     "execution_count": 19,
     "metadata": {},
     "output_type": "execute_result"
    }
   ],
   "source": [
    "model = BaselineMAModel()\n",
    "y_train_pred = model.predict(X_train, ndays=5)\n",
    "y_val_pred = model.predict(X_val, ndays=5)\n",
    "y_test_pred = model.predict(X_test, ndays=5)\n",
    "y_train_pred.shape, y_val_pred.shape, y_test_pred.shape"
   ]
  },
  {
   "cell_type": "code",
   "execution_count": 20,
   "metadata": {},
   "outputs": [
    {
     "data": {
      "text/plain": [
       "(array([0.03336056, 0.0394291 , 0.04570048, 0.05191565, 0.05828492]),\n",
       " 0.04573814135792863)"
      ]
     },
     "execution_count": 20,
     "metadata": {},
     "output_type": "execute_result"
    }
   ],
   "source": [
    "model.evaluate_model(y_true=y_train, y_pred=y_train_pred, metric=mse)"
   ]
  },
  {
   "cell_type": "code",
   "execution_count": 21,
   "metadata": {},
   "outputs": [
    {
     "data": {
      "text/plain": [
       "(array([0.04430977, 0.05216096, 0.06133201, 0.07132456, 0.08231013]),\n",
       " 0.06228748496916357)"
      ]
     },
     "execution_count": 21,
     "metadata": {},
     "output_type": "execute_result"
    }
   ],
   "source": [
    "model.evaluate_model(y_true=y_val, y_pred=y_val_pred, metric=mse)"
   ]
  },
  {
   "cell_type": "code",
   "execution_count": 22,
   "metadata": {},
   "outputs": [
    {
     "data": {
      "text/plain": [
       "(array([2688.92233386, 3142.65854376, 3560.8380593 , 3928.23160023,\n",
       "        4266.91285109]),\n",
       " 3517.5126776461357)"
      ]
     },
     "execution_count": 22,
     "metadata": {},
     "output_type": "execute_result"
    }
   ],
   "source": [
    "y_test_scaled = inverse_y(y_test)\n",
    "y_test_pred_scaled = inverse_y(y_test_pred)\n",
    "model.evaluate_model(y_test_scaled, y_test_pred_scaled, mse)"
   ]
  },
  {
   "cell_type": "markdown",
   "metadata": {},
   "source": [
    "## Deep"
   ]
  },
  {
   "cell_type": "code",
   "execution_count": 23,
   "metadata": {},
   "outputs": [],
   "source": [
    "import torch.nn as nn\n",
    "import torch.optim as optim"
   ]
  },
  {
   "cell_type": "markdown",
   "metadata": {},
   "source": [
    "### Transformer"
   ]
  },
  {
   "cell_type": "code",
   "execution_count": 24,
   "metadata": {},
   "outputs": [],
   "source": [
    "from transformer import LocalTransformerModel"
   ]
  },
  {
   "cell_type": "code",
   "execution_count": 28,
   "metadata": {},
   "outputs": [],
   "source": [
    "model = LocalTransformerModel(optimizer_class=optim.Adam, optimizer_params={\"betas\": (0.9, 0.999), \"eps\": 1e-8},\n",
    "                              input_dim=2, d_model=64, nhead=8, window=5,\n",
    "                              num_encoder_layers=4, dim_ff=256, dropout=0.1,\n",
    "                              max_len=70, output_dim=1, ndays=5)"
   ]
  },
  {
   "cell_type": "code",
   "execution_count": 29,
   "metadata": {},
   "outputs": [
    {
     "data": {
      "text/plain": [
       "LocalTransformerModel(\n",
       "  (input_linear): Linear(in_features=2, out_features=64, bias=True)\n",
       "  (pos_encoder): PositionalEncoding(\n",
       "    (dropout): Dropout(p=0.1, inplace=False)\n",
       "  )\n",
       "  (encoder): TransformerEncoder(\n",
       "    (layers): ModuleList(\n",
       "      (0-3): 4 x LocalTransformerEncoderLayer(\n",
       "        (self_attention): LocalAttention(\n",
       "          (attn): MultiheadAttention(\n",
       "            (out_proj): NonDynamicallyQuantizableLinear(in_features=64, out_features=64, bias=True)\n",
       "          )\n",
       "        )\n",
       "        (linear1): Linear(in_features=64, out_features=256, bias=True)\n",
       "        (dropout): Dropout(p=0.1, inplace=False)\n",
       "        (linear2): Linear(in_features=256, out_features=64, bias=True)\n",
       "        (norm1): LayerNorm((64,), eps=1e-05, elementwise_affine=True)\n",
       "        (norm2): LayerNorm((64,), eps=1e-05, elementwise_affine=True)\n",
       "        (dropout1): Dropout(p=0.1, inplace=False)\n",
       "        (dropout2): Dropout(p=0.1, inplace=False)\n",
       "        (activation): ReLU()\n",
       "      )\n",
       "    )\n",
       "    (norm): LayerNorm((64,), eps=1e-05, elementwise_affine=True)\n",
       "  )\n",
       "  (fc): Linear(in_features=64, out_features=5, bias=True)\n",
       ")"
      ]
     },
     "execution_count": 29,
     "metadata": {},
     "output_type": "execute_result"
    }
   ],
   "source": [
    "model"
   ]
  },
  {
   "cell_type": "code",
   "execution_count": 30,
   "metadata": {},
   "outputs": [
    {
     "name": "stdout",
     "output_type": "stream",
     "text": [
      "Epoch 1/10, Train Loss: 9.4137, Val Loss: 17.0801\n",
      "Epoch 2/10, Train Loss: 3.2006, Val Loss: 3.8153\n",
      "Epoch 3/10, Train Loss: 0.8778, Val Loss: 1.6462\n",
      "Epoch 4/10, Train Loss: 0.4942, Val Loss: 1.2012\n",
      "Epoch 5/10, Train Loss: 0.4101, Val Loss: 1.8593\n",
      "Epoch 6/10, Train Loss: 0.3632, Val Loss: 0.9399\n",
      "Epoch 7/10, Train Loss: 0.2976, Val Loss: 1.1735\n",
      "Epoch 8/10, Train Loss: 0.2959, Val Loss: 1.0406\n",
      "Epoch 9/10, Train Loss: 0.2199, Val Loss: 0.3302\n",
      "Epoch 10/10, Train Loss: 0.2127, Val Loss: 0.3171\n"
     ]
    }
   ],
   "source": [
    "model.train_model(X=X_train, y=y_train, loss_fn=nn.MSELoss(), num_epochs=10, lr=5e-4, batch_size=32, \n",
    "                   X_val=X_val, y_val=y_val, use_warmup=True, warmup_epochs=3, \n",
    "                   scheduler_type=\"cosine\", scheduler_params={\"T_max\": 25})"
   ]
  },
  {
   "cell_type": "code",
   "execution_count": 28,
   "metadata": {},
   "outputs": [],
   "source": [
    "model = LocalTransformerModel(optimizer_class=optim.Adam, optimizer_params={\"betas\": (0.9, 0.999), \"eps\": 1e-8},\n",
    "                              input_dim=2, d_model=64, nhead=8, window=5,\n",
    "                              num_encoder_layers=4, dim_ff=256, dropout=0.1,\n",
    "                              max_len=70, output_dim=1, ndays=5)"
   ]
  },
  {
   "cell_type": "code",
   "execution_count": 29,
   "metadata": {},
   "outputs": [
    {
     "data": {
      "text/plain": [
       "LocalTransformerModel(\n",
       "  (input_linear): Linear(in_features=2, out_features=64, bias=True)\n",
       "  (pos_encoder): PositionalEncoding(\n",
       "    (dropout): Dropout(p=0.1, inplace=False)\n",
       "  )\n",
       "  (encoder): TransformerEncoder(\n",
       "    (layers): ModuleList(\n",
       "      (0-3): 4 x LocalTransformerEncoderLayer(\n",
       "        (self_attention): LocalAttention(\n",
       "          (attn): MultiheadAttention(\n",
       "            (out_proj): NonDynamicallyQuantizableLinear(in_features=64, out_features=64, bias=True)\n",
       "          )\n",
       "        )\n",
       "        (linear1): Linear(in_features=64, out_features=256, bias=True)\n",
       "        (dropout): Dropout(p=0.1, inplace=False)\n",
       "        (linear2): Linear(in_features=256, out_features=64, bias=True)\n",
       "        (norm1): LayerNorm((64,), eps=1e-05, elementwise_affine=True)\n",
       "        (norm2): LayerNorm((64,), eps=1e-05, elementwise_affine=True)\n",
       "        (dropout1): Dropout(p=0.1, inplace=False)\n",
       "        (dropout2): Dropout(p=0.1, inplace=False)\n",
       "        (activation): ReLU()\n",
       "      )\n",
       "    )\n",
       "    (norm): LayerNorm((64,), eps=1e-05, elementwise_affine=True)\n",
       "  )\n",
       "  (fc): Linear(in_features=64, out_features=5, bias=True)\n",
       ")"
      ]
     },
     "execution_count": 29,
     "metadata": {},
     "output_type": "execute_result"
    }
   ],
   "source": [
    "model"
   ]
  },
  {
   "cell_type": "code",
   "execution_count": 30,
   "metadata": {},
   "outputs": [
    {
     "name": "stdout",
     "output_type": "stream",
     "text": [
      "Epoch 1/20, Train Loss: 9.0862, Val Loss: 16.6313\n",
      "Epoch 2/20, Train Loss: 3.8974, Val Loss: 5.7445\n",
      "Epoch 3/20, Train Loss: 0.7506, Val Loss: 1.7251\n",
      "Epoch 4/20, Train Loss: 0.4560, Val Loss: 1.4745\n",
      "Epoch 5/20, Train Loss: 0.3708, Val Loss: 0.4082\n",
      "Epoch 6/20, Train Loss: 0.3640, Val Loss: 0.2743\n",
      "Epoch 7/20, Train Loss: 0.3741, Val Loss: 0.3060\n",
      "Epoch 8/20, Train Loss: 0.2235, Val Loss: 0.4058\n",
      "Epoch 9/20, Train Loss: 0.2035, Val Loss: 0.2150\n",
      "Epoch 10/20, Train Loss: 0.1951, Val Loss: 0.1289\n",
      "Epoch 11/20, Train Loss: 0.1947, Val Loss: 0.1144\n",
      "Epoch 12/20, Train Loss: 0.1608, Val Loss: 0.3876\n",
      "Epoch 13/20, Train Loss: 0.1650, Val Loss: 0.1078\n",
      "Epoch 14/20, Train Loss: 0.1377, Val Loss: 0.1949\n",
      "Epoch 15/20, Train Loss: 0.1285, Val Loss: 0.3619\n",
      "Epoch 16/20, Train Loss: 0.1097, Val Loss: 0.6132\n",
      "Epoch 17/20, Train Loss: 0.1130, Val Loss: 0.1346\n",
      "Epoch 18/20, Train Loss: 0.0987, Val Loss: 0.2452\n",
      "Epoch 19/20, Train Loss: 0.1004, Val Loss: 0.2346\n",
      "Epoch 20/20, Train Loss: 0.0886, Val Loss: 0.3711\n"
     ]
    }
   ],
   "source": [
    "model.train_model(X=X_train, y=y_train, loss_fn=nn.MSELoss(), num_epochs=20, lr=5e-4, batch_size=32, \n",
    "                   X_val=X_val, y_val=y_val, use_warmup=True, warmup_epochs=5, \n",
    "                   scheduler_type=\"cosine\", scheduler_params={\"T_max\": 25})"
   ]
  },
  {
   "cell_type": "code",
   "execution_count": 34,
   "metadata": {},
   "outputs": [
    {
     "name": "stdout",
     "output_type": "stream",
     "text": [
      "Warning: Overriding existing optimizer.\n",
      "Epoch 21/10, Train Loss: 0.0701, Val Loss: 0.1636\n",
      "Epoch 22/10, Train Loss: 0.0696, Val Loss: 0.2079\n",
      "Epoch 23/10, Train Loss: 0.0679, Val Loss: 0.1941\n",
      "Epoch 24/10, Train Loss: 0.0694, Val Loss: 0.1768\n",
      "Epoch 25/10, Train Loss: 0.0694, Val Loss: 0.1619\n",
      "Epoch 26/10, Train Loss: 0.0663, Val Loss: 0.1999\n",
      "Epoch 27/10, Train Loss: 0.0683, Val Loss: 0.1738\n",
      "Epoch 28/10, Train Loss: 0.0619, Val Loss: 0.2024\n",
      "Epoch 29/10, Train Loss: 0.0657, Val Loss: 0.1821\n",
      "Epoch 30/10, Train Loss: 0.0663, Val Loss: 0.1264\n"
     ]
    }
   ],
   "source": [
    "model.train_model(X=X_train, y=y_train, loss_fn=nn.MSELoss(), num_epochs=10, lr=1e-5, batch_size=32, \n",
    "                   X_val=X_val, y_val=y_val, use_warmup=False, \n",
    "                   scheduler_type=\"cosine\", scheduler_params={\"T_max\": 25})"
   ]
  },
  {
   "cell_type": "code",
   "execution_count": 35,
   "metadata": {},
   "outputs": [],
   "source": [
    "model.save_model(file_path = 'local_transformer_model_checkpoint2.pth')"
   ]
  },
  {
   "cell_type": "code",
   "execution_count": 36,
   "metadata": {},
   "outputs": [
    {
     "data": {
      "text/plain": [
       "((47094, 5), (4042, 5), (4042, 5))"
      ]
     },
     "execution_count": 36,
     "metadata": {},
     "output_type": "execute_result"
    }
   ],
   "source": [
    "y_train_pred = model.predict(X_train)\n",
    "y_val_pred = model.predict(X_val)\n",
    "y_test_pred = model.predict(X_test)\n",
    "y_train_pred.shape, y_val_pred.shape, y_test_pred.shape"
   ]
  },
  {
   "cell_type": "code",
   "execution_count": 37,
   "metadata": {},
   "outputs": [],
   "source": [
    "def evaluate_model(y_true, y_pred, metric):\n",
    "    ndays = y_true.shape[1]\n",
    "    perdays = np.array([metric(y_true[:, i], y_pred[:, i]) for i in range(ndays)])\n",
    "    return perdays, perdays.mean()\n"
   ]
  },
  {
   "cell_type": "code",
   "execution_count": 38,
   "metadata": {},
   "outputs": [
    {
     "data": {
      "text/plain": [
       "(array([0.03489774, 0.04213201, 0.04968512, 0.0563923 , 0.0639586 ],\n",
       "       dtype=float32),\n",
       " 0.049413152)"
      ]
     },
     "execution_count": 38,
     "metadata": {},
     "output_type": "execute_result"
    }
   ],
   "source": [
    "evaluate_model(y_true=y_train, y_pred=y_train_pred, metric=mse)"
   ]
  },
  {
   "cell_type": "code",
   "execution_count": 39,
   "metadata": {},
   "outputs": [
    {
     "data": {
      "text/plain": [
       "(array([0.10379081, 0.11444955, 0.12340838, 0.1393262 , 0.15085594],\n",
       "       dtype=float32),\n",
       " 0.12636617)"
      ]
     },
     "execution_count": 39,
     "metadata": {},
     "output_type": "execute_result"
    }
   ],
   "source": [
    "evaluate_model(y_true=y_val, y_pred=y_val_pred, metric=mse)"
   ]
  },
  {
   "cell_type": "code",
   "execution_count": 40,
   "metadata": {},
   "outputs": [
    {
     "data": {
      "text/plain": [
       "(array([ 9738.89443676,  9871.06211777,  9923.38415015,  9848.7558813 ,\n",
       "        10028.53088546]),\n",
       " 9882.125494288204)"
      ]
     },
     "execution_count": 40,
     "metadata": {},
     "output_type": "execute_result"
    }
   ],
   "source": [
    "y_test_scaled = inverse_y(y_test)\n",
    "y_test_pred_scaled = inverse_y(y_test_pred)\n",
    "evaluate_model(y_test_scaled, y_test_pred_scaled, mse)"
   ]
  },
  {
   "cell_type": "code",
   "execution_count": 41,
   "metadata": {},
   "outputs": [
    {
     "data": {
      "text/plain": [
       "array([[2769.5090332 , 2750.84277344, 2790.14038086, 2767.54418945,\n",
       "        2785.22827148],\n",
       "       [2750.84277344, 2790.14038086, 2767.54418945, 2785.22827148,\n",
       "        2701.72045898],\n",
       "       [2790.14038086, 2767.54418945, 2785.22827148, 2701.72045898,\n",
       "        2660.45776367],\n",
       "       ...,\n",
       "       [  90.34999847,   92.68000031,   92.68000031,   92.79000092,\n",
       "          91.66000366],\n",
       "       [  92.68000031,   92.68000031,   92.79000092,   91.66000366,\n",
       "          90.56999969],\n",
       "       [  92.68000031,   92.79000092,   91.66000366,   90.56999969,\n",
       "          90.34999847]])"
      ]
     },
     "execution_count": 41,
     "metadata": {},
     "output_type": "execute_result"
    }
   ],
   "source": [
    "y_test_scaled"
   ]
  },
  {
   "cell_type": "code",
   "execution_count": 42,
   "metadata": {},
   "outputs": [
    {
     "data": {
      "text/plain": [
       "array([[2705.38232422, 2710.86254883, 2707.14355469, 2713.21118164,\n",
       "        2712.32861328],\n",
       "       [2739.77490234, 2745.0546875 , 2741.20898438, 2747.37060547,\n",
       "        2746.10839844],\n",
       "       [2755.71679688, 2760.89892578, 2757.42919922, 2763.30371094,\n",
       "        2762.64648438],\n",
       "       ...,\n",
       "       [  59.43575287,   59.54277802,   60.88783646,   62.11122513,\n",
       "          57.31735229],\n",
       "       [  58.12192535,   59.48018646,   59.85539246,   60.28598022,\n",
       "          58.67137909],\n",
       "       [  57.44210052,   59.71182251,   59.30269623,   59.55162048,\n",
       "          59.93556213]])"
      ]
     },
     "execution_count": 42,
     "metadata": {},
     "output_type": "execute_result"
    }
   ],
   "source": [
    "y_test_pred_scaled"
   ]
  },
  {
   "cell_type": "code",
   "execution_count": null,
   "metadata": {},
   "outputs": [],
   "source": []
  }
 ],
 "metadata": {
  "kernelspec": {
   "display_name": "Python 3",
   "language": "python",
   "name": "python3"
  },
  "language_info": {
   "codemirror_mode": {
    "name": "ipython",
    "version": 3
   },
   "file_extension": ".py",
   "mimetype": "text/x-python",
   "name": "python",
   "nbconvert_exporter": "python",
   "pygments_lexer": "ipython3",
   "version": "3.11.9"
  }
 },
 "nbformat": 4,
 "nbformat_minor": 2
}
