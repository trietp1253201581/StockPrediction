{
 "cells": [
  {
   "cell_type": "code",
   "execution_count": 1,
   "metadata": {},
   "outputs": [],
   "source": [
    "import sys\n",
    "sys.path.append('..')\n",
    "from data.process import StockDataProcessor\n",
    "import data.config as dataconf"
   ]
  },
  {
   "cell_type": "code",
   "execution_count": 2,
   "metadata": {},
   "outputs": [],
   "source": [
    "import numpy as np"
   ]
  },
  {
   "cell_type": "code",
   "execution_count": 3,
   "metadata": {},
   "outputs": [],
   "source": [
    "data_processor = StockDataProcessor()"
   ]
  },
  {
   "cell_type": "code",
   "execution_count": 4,
   "metadata": {},
   "outputs": [],
   "source": [
    "storage_path = '../data/raw.csv'\n",
    "data_processor.load_raw_to_df(storage_path, dataconf.tickers)"
   ]
  },
  {
   "cell_type": "code",
   "execution_count": 5,
   "metadata": {},
   "outputs": [
    {
     "data": {
      "text/html": [
       "<div>\n",
       "<style scoped>\n",
       "    .dataframe tbody tr th:only-of-type {\n",
       "        vertical-align: middle;\n",
       "    }\n",
       "\n",
       "    .dataframe tbody tr th {\n",
       "        vertical-align: top;\n",
       "    }\n",
       "\n",
       "    .dataframe thead th {\n",
       "        text-align: right;\n",
       "    }\n",
       "</style>\n",
       "<table border=\"1\" class=\"dataframe\">\n",
       "  <thead>\n",
       "    <tr style=\"text-align: right;\">\n",
       "      <th></th>\n",
       "      <th>Open</th>\n",
       "      <th>High</th>\n",
       "      <th>Low</th>\n",
       "      <th>Close</th>\n",
       "      <th>Volume</th>\n",
       "      <th>Ticker</th>\n",
       "      <th>Collect Date</th>\n",
       "    </tr>\n",
       "  </thead>\n",
       "  <tbody>\n",
       "    <tr>\n",
       "      <th>0</th>\n",
       "      <td>16.100000</td>\n",
       "      <td>16.396667</td>\n",
       "      <td>15.942000</td>\n",
       "      <td>16.312668</td>\n",
       "      <td>92439000.0</td>\n",
       "      <td>TSLA</td>\n",
       "      <td>2019-10-01</td>\n",
       "    </tr>\n",
       "    <tr>\n",
       "      <th>1</th>\n",
       "      <td>16.219334</td>\n",
       "      <td>16.309999</td>\n",
       "      <td>15.962000</td>\n",
       "      <td>16.208668</td>\n",
       "      <td>84471000.0</td>\n",
       "      <td>TSLA</td>\n",
       "      <td>2019-10-02</td>\n",
       "    </tr>\n",
       "    <tr>\n",
       "      <th>2</th>\n",
       "      <td>15.457333</td>\n",
       "      <td>15.632000</td>\n",
       "      <td>14.952000</td>\n",
       "      <td>15.535333</td>\n",
       "      <td>226267504.0</td>\n",
       "      <td>TSLA</td>\n",
       "      <td>2019-10-03</td>\n",
       "    </tr>\n",
       "    <tr>\n",
       "      <th>3</th>\n",
       "      <td>15.440667</td>\n",
       "      <td>15.652000</td>\n",
       "      <td>15.204667</td>\n",
       "      <td>15.428667</td>\n",
       "      <td>119925000.0</td>\n",
       "      <td>TSLA</td>\n",
       "      <td>2019-10-04</td>\n",
       "    </tr>\n",
       "    <tr>\n",
       "      <th>4</th>\n",
       "      <td>15.320000</td>\n",
       "      <td>15.904000</td>\n",
       "      <td>15.236667</td>\n",
       "      <td>15.848000</td>\n",
       "      <td>120963000.0</td>\n",
       "      <td>TSLA</td>\n",
       "      <td>2019-10-07</td>\n",
       "    </tr>\n",
       "    <tr>\n",
       "      <th>...</th>\n",
       "      <td>...</td>\n",
       "      <td>...</td>\n",
       "      <td>...</td>\n",
       "      <td>...</td>\n",
       "      <td>...</td>\n",
       "      <td>...</td>\n",
       "      <td>...</td>\n",
       "    </tr>\n",
       "    <tr>\n",
       "      <th>65560</th>\n",
       "      <td>2894.000000</td>\n",
       "      <td>2931.500000</td>\n",
       "      <td>2863.000000</td>\n",
       "      <td>2882.500000</td>\n",
       "      <td>24980800.0</td>\n",
       "      <td>7203.T</td>\n",
       "      <td>2025-01-24</td>\n",
       "    </tr>\n",
       "    <tr>\n",
       "      <th>65561</th>\n",
       "      <td>2913.500000</td>\n",
       "      <td>2941.500000</td>\n",
       "      <td>2910.500000</td>\n",
       "      <td>2922.000000</td>\n",
       "      <td>18257200.0</td>\n",
       "      <td>7203.T</td>\n",
       "      <td>2025-01-27</td>\n",
       "    </tr>\n",
       "    <tr>\n",
       "      <th>65562</th>\n",
       "      <td>2900.000000</td>\n",
       "      <td>2936.000000</td>\n",
       "      <td>2889.500000</td>\n",
       "      <td>2889.500000</td>\n",
       "      <td>18314000.0</td>\n",
       "      <td>7203.T</td>\n",
       "      <td>2025-01-28</td>\n",
       "    </tr>\n",
       "    <tr>\n",
       "      <th>65563</th>\n",
       "      <td>2917.000000</td>\n",
       "      <td>2936.500000</td>\n",
       "      <td>2898.500000</td>\n",
       "      <td>2930.000000</td>\n",
       "      <td>17997800.0</td>\n",
       "      <td>7203.T</td>\n",
       "      <td>2025-01-29</td>\n",
       "    </tr>\n",
       "    <tr>\n",
       "      <th>65564</th>\n",
       "      <td>2927.000000</td>\n",
       "      <td>2963.500000</td>\n",
       "      <td>2922.500000</td>\n",
       "      <td>2949.000000</td>\n",
       "      <td>18783700.0</td>\n",
       "      <td>7203.T</td>\n",
       "      <td>2025-01-30</td>\n",
       "    </tr>\n",
       "  </tbody>\n",
       "</table>\n",
       "<p>65565 rows × 7 columns</p>\n",
       "</div>"
      ],
      "text/plain": [
       "              Open         High          Low        Close       Volume  \\\n",
       "0        16.100000    16.396667    15.942000    16.312668   92439000.0   \n",
       "1        16.219334    16.309999    15.962000    16.208668   84471000.0   \n",
       "2        15.457333    15.632000    14.952000    15.535333  226267504.0   \n",
       "3        15.440667    15.652000    15.204667    15.428667  119925000.0   \n",
       "4        15.320000    15.904000    15.236667    15.848000  120963000.0   \n",
       "...            ...          ...          ...          ...          ...   \n",
       "65560  2894.000000  2931.500000  2863.000000  2882.500000   24980800.0   \n",
       "65561  2913.500000  2941.500000  2910.500000  2922.000000   18257200.0   \n",
       "65562  2900.000000  2936.000000  2889.500000  2889.500000   18314000.0   \n",
       "65563  2917.000000  2936.500000  2898.500000  2930.000000   17997800.0   \n",
       "65564  2927.000000  2963.500000  2922.500000  2949.000000   18783700.0   \n",
       "\n",
       "       Ticker Collect Date  \n",
       "0        TSLA   2019-10-01  \n",
       "1        TSLA   2019-10-02  \n",
       "2        TSLA   2019-10-03  \n",
       "3        TSLA   2019-10-04  \n",
       "4        TSLA   2019-10-07  \n",
       "...       ...          ...  \n",
       "65560  7203.T   2025-01-24  \n",
       "65561  7203.T   2025-01-27  \n",
       "65562  7203.T   2025-01-28  \n",
       "65563  7203.T   2025-01-29  \n",
       "65564  7203.T   2025-01-30  \n",
       "\n",
       "[65565 rows x 7 columns]"
      ]
     },
     "execution_count": 5,
     "metadata": {},
     "output_type": "execute_result"
    }
   ],
   "source": [
    "data_processor.df"
   ]
  },
  {
   "cell_type": "code",
   "execution_count": 6,
   "metadata": {},
   "outputs": [],
   "source": [
    "features = ['Close', 'Volume']\n",
    "data_processor.handle_missing_data(dataconf.start_date, dataconf.end_date, features=features)\n",
    "data_processor.scale(features=features)\n",
    "data_processor.select_feature(features=features)"
   ]
  },
  {
   "cell_type": "code",
   "execution_count": 7,
   "metadata": {},
   "outputs": [
    {
     "data": {
      "text/html": [
       "<div>\n",
       "<style scoped>\n",
       "    .dataframe tbody tr th:only-of-type {\n",
       "        vertical-align: middle;\n",
       "    }\n",
       "\n",
       "    .dataframe tbody tr th {\n",
       "        vertical-align: top;\n",
       "    }\n",
       "\n",
       "    .dataframe thead th {\n",
       "        text-align: right;\n",
       "    }\n",
       "</style>\n",
       "<table border=\"1\" class=\"dataframe\">\n",
       "  <thead>\n",
       "    <tr style=\"text-align: right;\">\n",
       "      <th></th>\n",
       "      <th>Close</th>\n",
       "      <th>Volume</th>\n",
       "      <th>Collect Date</th>\n",
       "      <th>Ticker</th>\n",
       "    </tr>\n",
       "  </thead>\n",
       "  <tbody>\n",
       "    <tr>\n",
       "      <th>67</th>\n",
       "      <td>-0.361416</td>\n",
       "      <td>7.191827</td>\n",
       "      <td>2020-01-01</td>\n",
       "      <td>TSLA</td>\n",
       "    </tr>\n",
       "    <tr>\n",
       "      <th>68</th>\n",
       "      <td>-0.358438</td>\n",
       "      <td>6.637111</td>\n",
       "      <td>2020-01-02</td>\n",
       "      <td>TSLA</td>\n",
       "    </tr>\n",
       "    <tr>\n",
       "      <th>69</th>\n",
       "      <td>-0.355254</td>\n",
       "      <td>12.707194</td>\n",
       "      <td>2020-01-03</td>\n",
       "      <td>TSLA</td>\n",
       "    </tr>\n",
       "    <tr>\n",
       "      <th>70</th>\n",
       "      <td>-0.353125</td>\n",
       "      <td>7.079427</td>\n",
       "      <td>2020-01-06</td>\n",
       "      <td>TSLA</td>\n",
       "    </tr>\n",
       "    <tr>\n",
       "      <th>71</th>\n",
       "      <td>-0.348751</td>\n",
       "      <td>12.783453</td>\n",
       "      <td>2020-01-07</td>\n",
       "      <td>TSLA</td>\n",
       "    </tr>\n",
       "    <tr>\n",
       "      <th>...</th>\n",
       "      <td>...</td>\n",
       "      <td>...</td>\n",
       "      <td>...</td>\n",
       "      <td>...</td>\n",
       "    </tr>\n",
       "    <tr>\n",
       "      <th>65538</th>\n",
       "      <td>10.636154</td>\n",
       "      <td>2.325211</td>\n",
       "      <td>2024-12-25</td>\n",
       "      <td>7203.T</td>\n",
       "    </tr>\n",
       "    <tr>\n",
       "      <th>65539</th>\n",
       "      <td>11.300889</td>\n",
       "      <td>2.760062</td>\n",
       "      <td>2024-12-26</td>\n",
       "      <td>7203.T</td>\n",
       "    </tr>\n",
       "    <tr>\n",
       "      <th>65540</th>\n",
       "      <td>11.473159</td>\n",
       "      <td>2.040668</td>\n",
       "      <td>2024-12-27</td>\n",
       "      <td>7203.T</td>\n",
       "    </tr>\n",
       "    <tr>\n",
       "      <th>65541</th>\n",
       "      <td>11.315869</td>\n",
       "      <td>0.809383</td>\n",
       "      <td>2024-12-30</td>\n",
       "      <td>7203.T</td>\n",
       "    </tr>\n",
       "    <tr>\n",
       "      <th>65542</th>\n",
       "      <td>11.315869</td>\n",
       "      <td>0.809383</td>\n",
       "      <td>2024-12-31</td>\n",
       "      <td>7203.T</td>\n",
       "    </tr>\n",
       "  </tbody>\n",
       "</table>\n",
       "<p>61382 rows × 4 columns</p>\n",
       "</div>"
      ],
      "text/plain": [
       "           Close     Volume Collect Date  Ticker\n",
       "67     -0.361416   7.191827   2020-01-01    TSLA\n",
       "68     -0.358438   6.637111   2020-01-02    TSLA\n",
       "69     -0.355254  12.707194   2020-01-03    TSLA\n",
       "70     -0.353125   7.079427   2020-01-06    TSLA\n",
       "71     -0.348751  12.783453   2020-01-07    TSLA\n",
       "...          ...        ...          ...     ...\n",
       "65538  10.636154   2.325211   2024-12-25  7203.T\n",
       "65539  11.300889   2.760062   2024-12-26  7203.T\n",
       "65540  11.473159   2.040668   2024-12-27  7203.T\n",
       "65541  11.315869   0.809383   2024-12-30  7203.T\n",
       "65542  11.315869   0.809383   2024-12-31  7203.T\n",
       "\n",
       "[61382 rows x 4 columns]"
      ]
     },
     "execution_count": 7,
     "metadata": {},
     "output_type": "execute_result"
    }
   ],
   "source": [
    "data_processor.df"
   ]
  },
  {
   "cell_type": "code",
   "execution_count": 8,
   "metadata": {},
   "outputs": [],
   "source": [
    "X_train, y_train, X_val, y_val, X_test, y_test = data_processor.split_train_val_test(window_for_x=40,\n",
    "                                                                                     window_for_y=5,\n",
    "                                                                                     val_size=0.1,\n",
    "                                                                                     test_size=0.1,\n",
    "                                                                                     features=features,\n",
    "                                                                                     target_col='Close')"
   ]
  },
  {
   "cell_type": "code",
   "execution_count": 9,
   "metadata": {},
   "outputs": [
    {
     "data": {
      "text/plain": [
       "((47094, 40, 2),\n",
       " (47094, 5),\n",
       " (4042, 40, 2),\n",
       " (4042, 5),\n",
       " (4042, 40, 2),\n",
       " (4042, 5))"
      ]
     },
     "execution_count": 9,
     "metadata": {},
     "output_type": "execute_result"
    }
   ],
   "source": [
    "X_train.shape, y_train.shape, X_val.shape, y_val.shape, X_test.shape, y_test.shape"
   ]
  },
  {
   "cell_type": "markdown",
   "metadata": {},
   "source": [
    "## Baseline"
   ]
  },
  {
   "cell_type": "markdown",
   "metadata": {},
   "source": [
    "### Last Days"
   ]
  },
  {
   "cell_type": "code",
   "execution_count": 10,
   "metadata": {},
   "outputs": [],
   "source": [
    "from baseline import BaselineLastDayModel"
   ]
  },
  {
   "cell_type": "code",
   "execution_count": 11,
   "metadata": {},
   "outputs": [
    {
     "data": {
      "text/plain": [
       "((47094, 5), (4042, 5), (4042, 5))"
      ]
     },
     "execution_count": 11,
     "metadata": {},
     "output_type": "execute_result"
    }
   ],
   "source": [
    "model = BaselineLastDayModel()\n",
    "y_train_pred = model.predict(X_train, ndays=5)\n",
    "y_val_pred = model.predict(X_val, ndays=5)\n",
    "y_test_pred = model.predict(X_test, ndays=5)\n",
    "y_train_pred.shape, y_val_pred.shape, y_test_pred.shape"
   ]
  },
  {
   "cell_type": "code",
   "execution_count": 12,
   "metadata": {},
   "outputs": [],
   "source": [
    "from common import mse, mae"
   ]
  },
  {
   "cell_type": "code",
   "execution_count": 13,
   "metadata": {},
   "outputs": [
    {
     "data": {
      "text/plain": [
       "(array([0.00857969, 0.01713958, 0.02712367, 0.03552309, 0.04417002],\n",
       "       dtype=float32),\n",
       " 0.02650721)"
      ]
     },
     "execution_count": 13,
     "metadata": {},
     "output_type": "execute_result"
    }
   ],
   "source": [
    "model.evaluate_model(y_true=y_train, y_pred=y_train_pred, metric=mse)"
   ]
  },
  {
   "cell_type": "code",
   "execution_count": 14,
   "metadata": {},
   "outputs": [
    {
     "data": {
      "text/plain": [
       "(array([0.01045789, 0.02028568, 0.03077288, 0.04323151, 0.05812694],\n",
       "       dtype=float32),\n",
       " 0.032574978)"
      ]
     },
     "execution_count": 14,
     "metadata": {},
     "output_type": "execute_result"
    }
   ],
   "source": [
    "model.evaluate_model(y_true=y_val, y_pred=y_val_pred, metric=mse)"
   ]
  },
  {
   "cell_type": "code",
   "execution_count": 15,
   "metadata": {},
   "outputs": [
    {
     "data": {
      "text/plain": [
       "array([[ 9.905915  ,  9.836011  ,  9.98318   ,  9.898558  ,  9.964784  ],\n",
       "       [ 9.836011  ,  9.98318   ,  9.898558  ,  9.964784  ,  9.652048  ],\n",
       "       [ 9.98318   ,  9.898558  ,  9.964784  ,  9.652048  ,  9.49752   ],\n",
       "       ...,\n",
       "       [-0.1274993 , -0.11877347, -0.11877347, -0.11836152, -0.12259334],\n",
       "       [-0.11877347, -0.11877347, -0.11836152, -0.12259334, -0.12667538],\n",
       "       [-0.11877347, -0.11836152, -0.12259334, -0.12667538, -0.1274993 ]],\n",
       "      dtype=float32)"
      ]
     },
     "execution_count": 15,
     "metadata": {},
     "output_type": "execute_result"
    }
   ],
   "source": [
    "y_test"
   ]
  },
  {
   "cell_type": "code",
   "execution_count": 16,
   "metadata": {},
   "outputs": [],
   "source": [
    "def inverse_y(y):\n",
    "    ndays = y.shape[1]\n",
    "    y_new = np.zeros(y.shape)\n",
    "    for i in range(ndays):\n",
    "        y_new[:, i] = data_processor.inverse_transform(y[:, i], 'Close')[:, 0]\n",
    "    return y_new"
   ]
  },
  {
   "cell_type": "code",
   "execution_count": 17,
   "metadata": {},
   "outputs": [
    {
     "data": {
      "text/plain": [
       "(array([1302.00112662, 2284.88861635, 3279.70038298, 3923.86798261,\n",
       "        4452.61393196]),\n",
       " 3048.614408103344)"
      ]
     },
     "execution_count": 17,
     "metadata": {},
     "output_type": "execute_result"
    }
   ],
   "source": [
    "y_test_scaled = inverse_y(y_test)\n",
    "y_test_pred_scaled = inverse_y(y_test_pred)\n",
    "model.evaluate_model(y_test_scaled, y_test_pred_scaled, mse)"
   ]
  },
  {
   "cell_type": "markdown",
   "metadata": {},
   "source": [
    "### Moving Average"
   ]
  },
  {
   "cell_type": "code",
   "execution_count": 18,
   "metadata": {},
   "outputs": [],
   "source": [
    "from baseline import BaselineMAModel"
   ]
  },
  {
   "cell_type": "code",
   "execution_count": 19,
   "metadata": {},
   "outputs": [
    {
     "data": {
      "text/plain": [
       "((47094, 5), (4042, 5), (4042, 5))"
      ]
     },
     "execution_count": 19,
     "metadata": {},
     "output_type": "execute_result"
    }
   ],
   "source": [
    "model = BaselineMAModel()\n",
    "y_train_pred = model.predict(X_train, ndays=5)\n",
    "y_val_pred = model.predict(X_val, ndays=5)\n",
    "y_test_pred = model.predict(X_test, ndays=5)\n",
    "y_train_pred.shape, y_val_pred.shape, y_test_pred.shape"
   ]
  },
  {
   "cell_type": "code",
   "execution_count": 20,
   "metadata": {},
   "outputs": [
    {
     "data": {
      "text/plain": [
       "(array([0.03336056, 0.0394291 , 0.04570048, 0.05191565, 0.05828492]),\n",
       " 0.04573814135792863)"
      ]
     },
     "execution_count": 20,
     "metadata": {},
     "output_type": "execute_result"
    }
   ],
   "source": [
    "model.evaluate_model(y_true=y_train, y_pred=y_train_pred, metric=mse)"
   ]
  },
  {
   "cell_type": "code",
   "execution_count": 21,
   "metadata": {},
   "outputs": [
    {
     "data": {
      "text/plain": [
       "(array([0.04430977, 0.05216096, 0.06133201, 0.07132456, 0.08231013]),\n",
       " 0.06228748496916357)"
      ]
     },
     "execution_count": 21,
     "metadata": {},
     "output_type": "execute_result"
    }
   ],
   "source": [
    "model.evaluate_model(y_true=y_val, y_pred=y_val_pred, metric=mse)"
   ]
  },
  {
   "cell_type": "code",
   "execution_count": 22,
   "metadata": {},
   "outputs": [
    {
     "data": {
      "text/plain": [
       "(array([2688.92233386, 3142.65854376, 3560.8380593 , 3928.23160023,\n",
       "        4266.91285109]),\n",
       " 3517.5126776461357)"
      ]
     },
     "execution_count": 22,
     "metadata": {},
     "output_type": "execute_result"
    }
   ],
   "source": [
    "y_test_scaled = inverse_y(y_test)\n",
    "y_test_pred_scaled = inverse_y(y_test_pred)\n",
    "model.evaluate_model(y_test_scaled, y_test_pred_scaled, mse)"
   ]
  },
  {
   "cell_type": "markdown",
   "metadata": {},
   "source": [
    "## Deep"
   ]
  },
  {
   "cell_type": "markdown",
   "metadata": {},
   "source": [
    "### LSTM"
   ]
  },
  {
   "cell_type": "code",
   "execution_count": 23,
   "metadata": {},
   "outputs": [],
   "source": [
    "from lstm import LSTMStockModel"
   ]
  },
  {
   "cell_type": "code",
   "execution_count": 24,
   "metadata": {},
   "outputs": [],
   "source": [
    "import torch.nn as nn"
   ]
  },
  {
   "cell_type": "code",
   "execution_count": 25,
   "metadata": {},
   "outputs": [
    {
     "name": "stdout",
     "output_type": "stream",
     "text": [
      "Epoch 1/14, Train Loss: 4.0808, Val Loss: 1.5243\n",
      "Epoch 2/14, Train Loss: 0.1423, Val Loss: 0.1939\n",
      "Epoch 3/14, Train Loss: 0.0479, Val Loss: 0.1040\n",
      "Epoch 4/14, Train Loss: 0.0375, Val Loss: 0.1242\n",
      "Epoch 5/14, Train Loss: 0.0343, Val Loss: 0.0722\n",
      "Epoch 6/14, Train Loss: 0.0324, Val Loss: 0.0651\n",
      "Epoch 7/14, Train Loss: 0.0321, Val Loss: 0.0583\n",
      "Epoch 8/14, Train Loss: 0.0307, Val Loss: 0.0548\n",
      "Epoch 9/14, Train Loss: 0.0302, Val Loss: 0.0562\n",
      "Epoch 10/14, Train Loss: 0.0310, Val Loss: 0.0524\n",
      "Epoch 11/14, Train Loss: 0.0297, Val Loss: 0.0414\n",
      "Epoch 12/14, Train Loss: 0.0292, Val Loss: 0.0573\n",
      "Epoch 13/14, Train Loss: 0.0300, Val Loss: 0.0496\n",
      "Epoch 14/14, Train Loss: 0.0290, Val Loss: 0.0407\n"
     ]
    }
   ],
   "source": [
    "model = LSTMStockModel(input_dim=2, hidden_dim=64, fc_dim=32, output_dim=5)\n",
    "model.train_model(X_train, y_train, loss_fn=nn.MSELoss(), num_epochs=14, lr=1e-4, batch_size=16, X_val=X_val, y_val=y_val)"
   ]
  },
  {
   "cell_type": "code",
   "execution_count": 27,
   "metadata": {},
   "outputs": [
    {
     "data": {
      "text/plain": [
       "((47094, 5), (4042, 5), (4042, 5))"
      ]
     },
     "execution_count": 27,
     "metadata": {},
     "output_type": "execute_result"
    }
   ],
   "source": [
    "y_train_pred = model.predict(X_train)\n",
    "y_val_pred = model.predict(X_val)\n",
    "y_test_pred = model.predict(X_test)\n",
    "y_train_pred.shape, y_val_pred.shape, y_test_pred.shape"
   ]
  },
  {
   "cell_type": "code",
   "execution_count": 28,
   "metadata": {},
   "outputs": [
    {
     "data": {
      "text/plain": [
       "(array([0.00995759, 0.0181122 , 0.02698571, 0.03549696, 0.04302435],\n",
       "       dtype=float32),\n",
       " 0.026715362)"
      ]
     },
     "execution_count": 28,
     "metadata": {},
     "output_type": "execute_result"
    }
   ],
   "source": [
    "model.evaluate_model(y_true=y_train, y_pred=y_train_pred, metric=mse)"
   ]
  },
  {
   "cell_type": "code",
   "execution_count": 29,
   "metadata": {},
   "outputs": [
    {
     "data": {
      "text/plain": [
       "(array([0.01732958, 0.02678571, 0.03872032, 0.05230585, 0.06820323],\n",
       "       dtype=float32),\n",
       " 0.040668942)"
      ]
     },
     "execution_count": 29,
     "metadata": {},
     "output_type": "execute_result"
    }
   ],
   "source": [
    "model.evaluate_model(y_true=y_val, y_pred=y_val_pred, metric=mse)"
   ]
  },
  {
   "cell_type": "code",
   "execution_count": 30,
   "metadata": {},
   "outputs": [
    {
     "data": {
      "text/plain": [
       "(array([1572.0989663 , 2264.01842375, 2978.48641041, 3575.78891908,\n",
       "        3880.001606  ]),\n",
       " 2854.07886510783)"
      ]
     },
     "execution_count": 30,
     "metadata": {},
     "output_type": "execute_result"
    }
   ],
   "source": [
    "y_test_scaled = inverse_y(y_test)\n",
    "y_test_pred_scaled = inverse_y(y_test_pred)\n",
    "model.evaluate_model(y_test_scaled, y_test_pred_scaled, mse)"
   ]
  },
  {
   "cell_type": "code",
   "execution_count": 31,
   "metadata": {},
   "outputs": [
    {
     "name": "stdout",
     "output_type": "stream",
     "text": [
      "Epoch 1/14, Train Loss: 4.1689, Val Loss: 2.5132\n",
      "Epoch 2/14, Train Loss: 0.2043, Val Loss: 0.2881\n",
      "Epoch 3/14, Train Loss: 0.0557, Val Loss: 0.0882\n",
      "Epoch 4/14, Train Loss: 0.0438, Val Loss: 0.0599\n",
      "Epoch 5/14, Train Loss: 0.0389, Val Loss: 0.0626\n",
      "Epoch 6/14, Train Loss: 0.0363, Val Loss: 0.0622\n",
      "Epoch 7/14, Train Loss: 0.0346, Val Loss: 0.0604\n",
      "Epoch 8/14, Train Loss: 0.0331, Val Loss: 0.0556\n",
      "Epoch 9/14, Train Loss: 0.0327, Val Loss: 0.0487\n",
      "Epoch 10/14, Train Loss: 0.0318, Val Loss: 0.0626\n",
      "Epoch 11/14, Train Loss: 0.0310, Val Loss: 0.0420\n",
      "Epoch 12/14, Train Loss: 0.0313, Val Loss: 0.0430\n",
      "Epoch 13/14, Train Loss: 0.0309, Val Loss: 0.0472\n",
      "Epoch 14/14, Train Loss: 0.0303, Val Loss: 0.0419\n"
     ]
    }
   ],
   "source": [
    "model = LSTMStockModel(input_dim=2, hidden_dim=[64, 64], fc_dim=32, output_dim=5)\n",
    "model.train_model(X_train, y_train, loss_fn=nn.MSELoss(), num_epochs=14, lr=1e-4, batch_size=16, X_val=X_val, y_val=y_val)"
   ]
  },
  {
   "cell_type": "code",
   "execution_count": 32,
   "metadata": {},
   "outputs": [
    {
     "data": {
      "text/plain": [
       "((47094, 5), (4042, 5), (4042, 5))"
      ]
     },
     "execution_count": 32,
     "metadata": {},
     "output_type": "execute_result"
    }
   ],
   "source": [
    "y_train_pred = model.predict(X_train)\n",
    "y_val_pred = model.predict(X_val)\n",
    "y_test_pred = model.predict(X_test)\n",
    "y_train_pred.shape, y_val_pred.shape, y_test_pred.shape"
   ]
  },
  {
   "cell_type": "code",
   "execution_count": 33,
   "metadata": {},
   "outputs": [
    {
     "data": {
      "text/plain": [
       "(array([0.01010536, 0.01773989, 0.02682295, 0.03426706, 0.04239224],\n",
       "       dtype=float32),\n",
       " 0.026265498)"
      ]
     },
     "execution_count": 33,
     "metadata": {},
     "output_type": "execute_result"
    }
   ],
   "source": [
    "model.evaluate_model(y_true=y_train, y_pred=y_train_pred, metric=mse)"
   ]
  },
  {
   "cell_type": "code",
   "execution_count": 34,
   "metadata": {},
   "outputs": [
    {
     "data": {
      "text/plain": [
       "(array([0.01561623, 0.02528864, 0.0399519 , 0.05403223, 0.07466817],\n",
       "       dtype=float32),\n",
       " 0.04191143)"
      ]
     },
     "execution_count": 34,
     "metadata": {},
     "output_type": "execute_result"
    }
   ],
   "source": [
    "model.evaluate_model(y_true=y_val, y_pred=y_val_pred, metric=mse)"
   ]
  },
  {
   "cell_type": "code",
   "execution_count": 35,
   "metadata": {},
   "outputs": [
    {
     "data": {
      "text/plain": [
       "(array([1373.47339079, 2277.33316374, 3180.96642062, 3801.5330759 ,\n",
       "        4509.4346674 ]),\n",
       " 3028.5481436910713)"
      ]
     },
     "execution_count": 35,
     "metadata": {},
     "output_type": "execute_result"
    }
   ],
   "source": [
    "y_test_scaled = inverse_y(y_test)\n",
    "y_test_pred_scaled = inverse_y(y_test_pred)\n",
    "model.evaluate_model(y_test_scaled, y_test_pred_scaled, mse)"
   ]
  },
  {
   "cell_type": "code",
   "execution_count": null,
   "metadata": {},
   "outputs": [],
   "source": []
  }
 ],
 "metadata": {
  "kernelspec": {
   "display_name": "Python 3",
   "language": "python",
   "name": "python3"
  },
  "language_info": {
   "codemirror_mode": {
    "name": "ipython",
    "version": 3
   },
   "file_extension": ".py",
   "mimetype": "text/x-python",
   "name": "python",
   "nbconvert_exporter": "python",
   "pygments_lexer": "ipython3",
   "version": "3.11.9"
  }
 },
 "nbformat": 4,
 "nbformat_minor": 2
}
